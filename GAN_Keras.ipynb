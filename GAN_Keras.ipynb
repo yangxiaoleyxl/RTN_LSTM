{
 "cells": [
  {
   "cell_type": "code",
   "execution_count": 18,
   "metadata": {},
   "outputs": [
    {
     "name": "stdout",
     "output_type": "stream",
     "text": [
      "Using matplotlib backend: Qt5Agg\n"
     ]
    }
   ],
   "source": [
    "# from keras.layers import Input,Embedding,LSTM,Dense\n",
    "# from keras.models import Model\n",
    "\n",
    "# model = Sequential()\n",
    "\n",
    "# model.add(Dense(64,input_dim=100))\n",
    "# model.add(Activation('relu'))\n",
    "# model.add(Dense(32))\n",
    "# model.add(Activation('softmax'))\n",
    "# model.compile(optimizer='sgd',loss='categorical_crossentropy')\n",
    "# # model,fit()\n",
    "\n",
    "############################# 生成GAN 模拟随机正弦曲线 #################################\n",
    "%matplotlib\n",
    "import numpy as np\n",
    "import pandas as pd\n",
    "\n",
    "from keras.models import Model\n",
    "from keras.layers import Dense,Activation,Input,Reshape\n",
    "from keras.layers import Conv1D,Conv2D\n",
    "from keras.layers import Flatten,Dropout,Permute\n",
    "from keras.optimizers import SGD,Adam,RMSprop\n",
    "\n",
    "# from tqdm import tqdm_notebook as tqdm\n",
    "\n",
    "num = 5000\n",
    "\n",
    "def sample_data(n_sample= num, x_var= np.arange(0,3,0.05),\n",
    "               max_offset=500, mul_range=[1,2]):\n",
    "    vectors = []\n",
    "    for i in range (n_sample):\n",
    "        offset = np.random.random() \n",
    "        mul = mul_range[0] + np.random.random()*(mul_range[1]-\n",
    "                                                mul_range[0])\n",
    "        vectors.append(np.sin(offset + x_var * mul)/2 + 3)\n",
    "        \n",
    "    return np.array(vectors)\n",
    "\n",
    "def get_generator(G_in, dense_dim=200, out_dim=80, lr=1e-3):\n",
    "    x = Dense(dense_dim)(G_in)\n",
    "    x = Activation('relu')(x)\n",
    "    G_out = Dense(out_dim, activation='relu')(x)\n",
    "    G = Model(G_in,G_out)\n",
    "    opt = SGD(lr=lr)\n",
    "    \n",
    "    G.compile(loss='binary_crossentropy',optimizers=opt)\n",
    "    \n",
    "    return G,G_out\n",
    "\n",
    "def get_discriminative(D_in,lr=1e-3, drate=.25,n_channels=50,\n",
    "                       conv_sz=5,leak=.2):\n",
    "    \n",
    "    x = Reshape((-1,1))(D_in)\n",
    "    x = Conv1D(n_channels, conv_sz, activation='relu')(x)\n",
    "    x = Dropout(drate)\n",
    "    x = Flatten()(x)\n",
    "    x = Dense(n_channels)(x)\n",
    "    D_out = Dense(2, activation='sigmoid')(x)\n",
    "    D = Model(D_in, D_out)\n",
    "    dopt = Adam(lr=lr)\n",
    "    D.compile(loss='binary_crossentropy', optimizers=dopt)\n",
    "    \n",
    "    return D, D_out \n",
    "\n",
    "def set_trainability(model, trainable=False):\n",
    "    model.trainable = trainable\n",
    "    for layer in model.layers:\n",
    "        layer.trainable = trainable\n",
    "        \n",
    "        \n",
    "def make_GAN(GAN_in, G, D):\n",
    "    set_trainability(D, False)\n",
    "    x = G(GAN_in)\n",
    "    x = G"
   ]
  }
 ],
 "metadata": {
  "kernelspec": {
   "display_name": "Python 3",
   "language": "python",
   "name": "python3"
  },
  "language_info": {
   "codemirror_mode": {
    "name": "ipython",
    "version": 3
   },
   "file_extension": ".py",
   "mimetype": "text/x-python",
   "name": "python",
   "nbconvert_exporter": "python",
   "pygments_lexer": "ipython3",
   "version": "3.6.0"
  }
 },
 "nbformat": 4,
 "nbformat_minor": 2
}
